{
 "cells": [
  {
   "cell_type": "code",
   "execution_count": 1,
   "metadata": {},
   "outputs": [],
   "source": [
    "from src.data.load_data import *\n",
    "from src.models import util_model\n",
    "from src.data import util\n",
    "from pathlib import Path"
   ]
  },
  {
   "cell_type": "code",
   "execution_count": 2,
   "metadata": {},
   "outputs": [],
   "source": [
    "dataset_path = Path(\"data/raw\")\n",
    "target_path = dataset_path / \"trans021-1.png\"\n",
    "target_image = read_image(target_path)"
   ]
  },
  {
   "cell_type": "code",
   "execution_count": 3,
   "metadata": {},
   "outputs": [
    {
     "name": "stdout",
     "output_type": "stream",
     "text": [
      "\n",
      "0: 640x480 3 sections, 883.1ms\n",
      "Speed: 4.0ms preprocess, 883.1ms inference, 0.7ms postprocess per image at shape (1, 3, 640, 480)\n"
     ]
    }
   ],
   "source": [
    "section_dict = util_model.detect_section(target_image)"
   ]
  },
  {
   "cell_type": "code",
   "execution_count": 4,
   "metadata": {},
   "outputs": [],
   "source": [
    "processed_sections = util.pre_process(section_dict)"
   ]
  },
  {
   "cell_type": "code",
   "execution_count": 5,
   "metadata": {},
   "outputs": [],
   "source": [
    "text_dict = util_model.images_to_texts(processed_sections)"
   ]
  },
  {
   "cell_type": "code",
   "execution_count": 6,
   "metadata": {},
   "outputs": [
    {
     "name": "stdout",
     "output_type": "stream",
     "text": [
      "Error from get_courseID\n",
      "33101: ศิลปะ 5                      05    4\n",
      "Error from get_courseID\n",
      "31202: เทเบิลเทนนิส                                   05       4\n"
     ]
    }
   ],
   "source": [
    "courses_df = util.make_course(text_dict)"
   ]
  },
  {
   "cell_type": "code",
   "execution_count": 7,
   "metadata": {},
   "outputs": [
    {
     "name": "stdout",
     "output_type": "stream",
     "text": [
      "['33101: ศิลปะ 5                      05    4' '5                      5    4' '004' '999' 'ศิลปะ' 0.5 4.0]\n",
      "Error from get_courseID\n",
      "33101: ศิลปะ 5                       05    4\n",
      "Error from get_courseID\n",
      "33101: ศิลปะ 5                       05    4\n",
      "Error from get_courseID\n",
      "33101: ศิลปะ 5                       05    4\n",
      "Error from get_courseID\n",
      "33101: ศิลปะ 5                       05    4\n",
      "['31202: เทเบิลเทนนิส                                   05       4' '5       4' '134' '999' 'เทเบิลเทนนิส' 0.5 4.0]\n",
      "Error from get_courseID\n",
      "31202: เทเบิลเทนนิส                                   05       4\n",
      "['อ31204: ภาษาอังกฤษฟัง-พูด 2                             ย' '' '135' 'อ31204' 'ภาษาอังกฤษฟัง' 999.0 999.0]\n"
     ]
    }
   ],
   "source": [
    "post_courses_df = util.post_process(courses_df, processed_sections)"
   ]
  },
  {
   "cell_type": "code",
   "execution_count": 8,
   "metadata": {},
   "outputs": [
    {
     "data": {
      "text/html": [
       "<div>\n",
       "<style scoped>\n",
       "    .dataframe tbody tr th:only-of-type {\n",
       "        vertical-align: middle;\n",
       "    }\n",
       "\n",
       "    .dataframe tbody tr th {\n",
       "        vertical-align: top;\n",
       "    }\n",
       "\n",
       "    .dataframe thead th {\n",
       "        text-align: right;\n",
       "    }\n",
       "</style>\n",
       "<table border=\"1\" class=\"dataframe\">\n",
       "  <thead>\n",
       "    <tr style=\"text-align: right;\">\n",
       "      <th></th>\n",
       "      <th>ocr</th>\n",
       "      <th>numeric</th>\n",
       "      <th>section</th>\n",
       "      <th>id</th>\n",
       "      <th>name</th>\n",
       "      <th>unit</th>\n",
       "      <th>grade</th>\n",
       "    </tr>\n",
       "  </thead>\n",
       "  <tbody>\n",
       "    <tr>\n",
       "      <th>0</th>\n",
       "      <td>33101: ศิลปะ 5                      05    4</td>\n",
       "      <td>5                      5    4</td>\n",
       "      <td>004</td>\n",
       "      <td>999</td>\n",
       "      <td>ศิลปะ</td>\n",
       "      <td>0.5</td>\n",
       "      <td>4.0</td>\n",
       "    </tr>\n",
       "    <tr>\n",
       "      <th>1</th>\n",
       "      <td>31202: เทเบิลเทนนิส                           ...</td>\n",
       "      <td>5       4</td>\n",
       "      <td>134</td>\n",
       "      <td>999</td>\n",
       "      <td>เทเบิลเทนนิส</td>\n",
       "      <td>0.5</td>\n",
       "      <td>4.0</td>\n",
       "    </tr>\n",
       "  </tbody>\n",
       "</table>\n",
       "</div>"
      ],
      "text/plain": [
       "                                                 ocr  \\\n",
       "0        33101: ศิลปะ 5                      05    4   \n",
       "1  31202: เทเบิลเทนนิส                           ...   \n",
       "\n",
       "                         numeric section   id          name  unit  grade  \n",
       "0  5                      5    4     004  999         ศิลปะ   0.5    4.0  \n",
       "1                      5       4     134  999  เทเบิลเทนนิส   0.5    4.0  "
      ]
     },
     "execution_count": 8,
     "metadata": {},
     "output_type": "execute_result"
    }
   ],
   "source": [
    "error_df = util.get_error(post_courses_df).reset_index(drop=True)\n",
    "error_df"
   ]
  },
  {
   "cell_type": "code",
   "execution_count": 10,
   "metadata": {},
   "outputs": [],
   "source": []
  }
 ],
 "metadata": {
  "kernelspec": {
   "display_name": "transOCR",
   "language": "python",
   "name": "python3"
  },
  "language_info": {
   "codemirror_mode": {
    "name": "ipython",
    "version": 3
   },
   "file_extension": ".py",
   "mimetype": "text/x-python",
   "name": "python",
   "nbconvert_exporter": "python",
   "pygments_lexer": "ipython3",
   "version": "3.10.14"
  }
 },
 "nbformat": 4,
 "nbformat_minor": 2
}
