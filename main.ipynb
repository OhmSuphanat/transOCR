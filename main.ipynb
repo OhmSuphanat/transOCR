{
 "cells": [
  {
   "cell_type": "code",
   "execution_count": 27,
   "metadata": {},
   "outputs": [],
   "source": [
    "from src.data.load_data import *\n",
    "from src.models.util_model import *\n",
    "from src.data.preprocess import *\n",
    "from src.data.postprocess import *\n",
    "from src.data.util import *\n",
    "from pathlib import Path"
   ]
  },
  {
   "cell_type": "code",
   "execution_count": 28,
   "metadata": {},
   "outputs": [],
   "source": [
    "dataset_path = Path(\"data/raw\")\n",
    "target_path = dataset_path / \"trans021-1.png\"\n",
    "target_image = read_image(target_path)"
   ]
  },
  {
   "cell_type": "code",
   "execution_count": 29,
   "metadata": {},
   "outputs": [
    {
     "name": "stdout",
     "output_type": "stream",
     "text": [
      "\n",
      "0: 640x480 3 sections, 871.7ms\n",
      "Speed: 3.6ms preprocess, 871.7ms inference, 0.7ms postprocess per image at shape (1, 3, 640, 480)\n"
     ]
    }
   ],
   "source": [
    "section_dict = detect_section(target_image)"
   ]
  },
  {
   "cell_type": "code",
   "execution_count": 30,
   "metadata": {},
   "outputs": [],
   "source": [
    "processed_sections = preprocess(section_dict)"
   ]
  },
  {
   "cell_type": "code",
   "execution_count": 31,
   "metadata": {},
   "outputs": [],
   "source": [
    "text_dict = images_to_texts(processed_sections)"
   ]
  },
  {
   "cell_type": "code",
   "execution_count": 32,
   "metadata": {},
   "outputs": [
    {
     "name": "stdout",
     "output_type": "stream",
     "text": [
      "Error from get_courseID\n",
      "33101: ศิลปะ 5                      05    4\n",
      "Error from get_courseID\n",
      "31202: เทเบิลเทนนิส                                   05       4\n"
     ]
    }
   ],
   "source": [
    "courses_df = make_course(text_dict)"
   ]
  },
  {
   "cell_type": "code",
   "execution_count": 33,
   "metadata": {},
   "outputs": [
    {
     "data": {
      "text/html": [
       "<div>\n",
       "<style scoped>\n",
       "    .dataframe tbody tr th:only-of-type {\n",
       "        vertical-align: middle;\n",
       "    }\n",
       "\n",
       "    .dataframe tbody tr th {\n",
       "        vertical-align: top;\n",
       "    }\n",
       "\n",
       "    .dataframe thead th {\n",
       "        text-align: right;\n",
       "    }\n",
       "</style>\n",
       "<table border=\"1\" class=\"dataframe\">\n",
       "  <thead>\n",
       "    <tr style=\"text-align: right;\">\n",
       "      <th></th>\n",
       "      <th>ocr</th>\n",
       "      <th>numeric</th>\n",
       "      <th>section</th>\n",
       "      <th>id</th>\n",
       "      <th>name</th>\n",
       "      <th>unit</th>\n",
       "      <th>grade</th>\n",
       "    </tr>\n",
       "  </thead>\n",
       "  <tbody>\n",
       "    <tr>\n",
       "      <th>0</th>\n",
       "      <td>ค33101: คณิตศาสตร์ 5                  10    4</td>\n",
       "      <td>5                  1    4</td>\n",
       "      <td>000</td>\n",
       "      <td>ค33101</td>\n",
       "      <td>คณิตศาสตร์</td>\n",
       "      <td>1.0</td>\n",
       "      <td>4.0</td>\n",
       "    </tr>\n",
       "    <tr>\n",
       "      <th>1</th>\n",
       "      <td>ว30105: วิทยาศาสตร์ 5                    10    4</td>\n",
       "      <td>5                    1    4</td>\n",
       "      <td>001</td>\n",
       "      <td>ว30105</td>\n",
       "      <td>วิทยาศาสตร์</td>\n",
       "      <td>1.0</td>\n",
       "      <td>4.0</td>\n",
       "    </tr>\n",
       "    <tr>\n",
       "      <th>2</th>\n",
       "      <td>ส33101: สังคมศึกษา ศาสนาและวัฒนธรรม 5         ...</td>\n",
       "      <td>5             1       4</td>\n",
       "      <td>002</td>\n",
       "      <td>ส33101</td>\n",
       "      <td>สังคมศึกษา ศาสนาและวัฒนธรรม</td>\n",
       "      <td>1.0</td>\n",
       "      <td>4.0</td>\n",
       "    </tr>\n",
       "    <tr>\n",
       "      <th>3</th>\n",
       "      <td>พ33101: สุขศึกษาและพลศึกษา 5             05    4</td>\n",
       "      <td>5             5    4</td>\n",
       "      <td>003</td>\n",
       "      <td>พ33101</td>\n",
       "      <td>สุขศึกษาและพลศึกษา</td>\n",
       "      <td>0.5</td>\n",
       "      <td>4.0</td>\n",
       "    </tr>\n",
       "    <tr>\n",
       "      <th>4</th>\n",
       "      <td>33101: ศิลปะ 5                      05    4</td>\n",
       "      <td>5                      5    4</td>\n",
       "      <td>004</td>\n",
       "      <td>999</td>\n",
       "      <td>ศิลปะ</td>\n",
       "      <td>0.5</td>\n",
       "      <td>4.0</td>\n",
       "    </tr>\n",
       "    <tr>\n",
       "      <th>...</th>\n",
       "      <td>...</td>\n",
       "      <td>...</td>\n",
       "      <td>...</td>\n",
       "      <td>...</td>\n",
       "      <td>...</td>\n",
       "      <td>...</td>\n",
       "      <td>...</td>\n",
       "    </tr>\n",
       "    <tr>\n",
       "      <th>113</th>\n",
       "      <td>ว30268: โครงงาน 1                       10   4</td>\n",
       "      <td>1                       1   4</td>\n",
       "      <td>237</td>\n",
       "      <td>ว30268</td>\n",
       "      <td>โครงงาน</td>\n",
       "      <td>1.0</td>\n",
       "      <td>4.0</td>\n",
       "    </tr>\n",
       "    <tr>\n",
       "      <th>114</th>\n",
       "      <td>ว30290: เทคนิคปฏิบัติการพื้นฐานทางวิทยาศาสตร์ ...</td>\n",
       "      <td>1   1   4</td>\n",
       "      <td>238</td>\n",
       "      <td>ว30290</td>\n",
       "      <td>เทคนิคปฏิบัติการพื้นฐานทางวิทยาศาสตร์</td>\n",
       "      <td>1.0</td>\n",
       "      <td>4.0</td>\n",
       "    </tr>\n",
       "    <tr>\n",
       "      <th>115</th>\n",
       "      <td>ว30291: เทคนิคปฏิบัติการพื้นฐานทางวิทยาศาสตร์ ...</td>\n",
       "      <td>2   1   4</td>\n",
       "      <td>239</td>\n",
       "      <td>ว30291</td>\n",
       "      <td>เทคนิคปฏิบัติการพื้นฐานทางวิทยาศาสตร์</td>\n",
       "      <td>1.0</td>\n",
       "      <td>4.0</td>\n",
       "    </tr>\n",
       "    <tr>\n",
       "      <th>116</th>\n",
       "      <td>อ30204: การเขียนรายงานการวิจัยภาษาอังกฤษ      ...</td>\n",
       "      <td>1    4</td>\n",
       "      <td>240</td>\n",
       "      <td>อ30204</td>\n",
       "      <td>การเขียนรายงานการวิจัยภาษาอังกฤษ</td>\n",
       "      <td>1.0</td>\n",
       "      <td>4.0</td>\n",
       "    </tr>\n",
       "    <tr>\n",
       "      <th>117</th>\n",
       "      <td>ท33101: ภาษาไทย 5                          10   4</td>\n",
       "      <td>5                          1   4</td>\n",
       "      <td>241</td>\n",
       "      <td>ท33101</td>\n",
       "      <td>ภาษาไทย</td>\n",
       "      <td>1.0</td>\n",
       "      <td>4.0</td>\n",
       "    </tr>\n",
       "  </tbody>\n",
       "</table>\n",
       "<p>118 rows × 7 columns</p>\n",
       "</div>"
      ],
      "text/plain": [
       "                                                   ocr  \\\n",
       "0        ค33101: คณิตศาสตร์ 5                  10    4   \n",
       "1     ว30105: วิทยาศาสตร์ 5                    10    4   \n",
       "2    ส33101: สังคมศึกษา ศาสนาและวัฒนธรรม 5         ...   \n",
       "3     พ33101: สุขศึกษาและพลศึกษา 5             05    4   \n",
       "4          33101: ศิลปะ 5                      05    4   \n",
       "..                                                 ...   \n",
       "113     ว30268: โครงงาน 1                       10   4   \n",
       "114  ว30290: เทคนิคปฏิบัติการพื้นฐานทางวิทยาศาสตร์ ...   \n",
       "115  ว30291: เทคนิคปฏิบัติการพื้นฐานทางวิทยาศาสตร์ ...   \n",
       "116  อ30204: การเขียนรายงานการวิจัยภาษาอังกฤษ      ...   \n",
       "117  ท33101: ภาษาไทย 5                          10   4   \n",
       "\n",
       "                              numeric section      id  \\\n",
       "0           5                  1    4     000  ค33101   \n",
       "1         5                    1    4     001  ว30105   \n",
       "2             5             1       4     002  ส33101   \n",
       "3                5             5    4     003  พ33101   \n",
       "4       5                      5    4     004     999   \n",
       "..                                ...     ...     ...   \n",
       "113     1                       1   4     237  ว30268   \n",
       "114                         1   1   4     238  ว30290   \n",
       "115                         2   1   4     239  ว30291   \n",
       "116                            1    4     240  อ30204   \n",
       "117  5                          1   4     241  ท33101   \n",
       "\n",
       "                                      name  unit  grade  \n",
       "0                               คณิตศาสตร์   1.0    4.0  \n",
       "1                              วิทยาศาสตร์   1.0    4.0  \n",
       "2              สังคมศึกษา ศาสนาและวัฒนธรรม   1.0    4.0  \n",
       "3                       สุขศึกษาและพลศึกษา   0.5    4.0  \n",
       "4                                    ศิลปะ   0.5    4.0  \n",
       "..                                     ...   ...    ...  \n",
       "113                                โครงงาน   1.0    4.0  \n",
       "114  เทคนิคปฏิบัติการพื้นฐานทางวิทยาศาสตร์   1.0    4.0  \n",
       "115  เทคนิคปฏิบัติการพื้นฐานทางวิทยาศาสตร์   1.0    4.0  \n",
       "116       การเขียนรายงานการวิจัยภาษาอังกฤษ   1.0    4.0  \n",
       "117                                ภาษาไทย   1.0    4.0  \n",
       "\n",
       "[118 rows x 7 columns]"
      ]
     },
     "execution_count": 33,
     "metadata": {},
     "output_type": "execute_result"
    }
   ],
   "source": [
    "courses_df"
   ]
  },
  {
   "cell_type": "code",
   "execution_count": 34,
   "metadata": {},
   "outputs": [
    {
     "data": {
      "text/html": [
       "<div>\n",
       "<style scoped>\n",
       "    .dataframe tbody tr th:only-of-type {\n",
       "        vertical-align: middle;\n",
       "    }\n",
       "\n",
       "    .dataframe tbody tr th {\n",
       "        vertical-align: top;\n",
       "    }\n",
       "\n",
       "    .dataframe thead th {\n",
       "        text-align: right;\n",
       "    }\n",
       "</style>\n",
       "<table border=\"1\" class=\"dataframe\">\n",
       "  <thead>\n",
       "    <tr style=\"text-align: right;\">\n",
       "      <th></th>\n",
       "      <th>ocr</th>\n",
       "      <th>numeric</th>\n",
       "      <th>section</th>\n",
       "      <th>id</th>\n",
       "      <th>name</th>\n",
       "      <th>unit</th>\n",
       "      <th>grade</th>\n",
       "    </tr>\n",
       "  </thead>\n",
       "  <tbody>\n",
       "    <tr>\n",
       "      <th>0</th>\n",
       "      <td>33101: ศิลปะ 5                      05    4</td>\n",
       "      <td>5                      5    4</td>\n",
       "      <td>004</td>\n",
       "      <td>999</td>\n",
       "      <td>ศิลปะ</td>\n",
       "      <td>0.5</td>\n",
       "      <td>4.0</td>\n",
       "    </tr>\n",
       "    <tr>\n",
       "      <th>1</th>\n",
       "      <td>31202: เทเบิลเทนนิส                           ...</td>\n",
       "      <td>5       4</td>\n",
       "      <td>134</td>\n",
       "      <td>999</td>\n",
       "      <td>เทเบิลเทนนิส</td>\n",
       "      <td>0.5</td>\n",
       "      <td>4.0</td>\n",
       "    </tr>\n",
       "    <tr>\n",
       "      <th>2</th>\n",
       "      <td>อ31204: ภาษาอังกฤษฟัง-พูด 2                   ...</td>\n",
       "      <td></td>\n",
       "      <td>135</td>\n",
       "      <td>อ31204</td>\n",
       "      <td>ภาษาอังกฤษฟัง</td>\n",
       "      <td>999.0</td>\n",
       "      <td>999.0</td>\n",
       "    </tr>\n",
       "  </tbody>\n",
       "</table>\n",
       "</div>"
      ],
      "text/plain": [
       "                                                 ocr  \\\n",
       "0        33101: ศิลปะ 5                      05    4   \n",
       "1  31202: เทเบิลเทนนิส                           ...   \n",
       "2  อ31204: ภาษาอังกฤษฟัง-พูด 2                   ...   \n",
       "\n",
       "                         numeric section      id           name   unit  grade  \n",
       "0  5                      5    4     004     999          ศิลปะ    0.5    4.0  \n",
       "1                      5       4     134     999   เทเบิลเทนนิส    0.5    4.0  \n",
       "2                                    135  อ31204  ภาษาอังกฤษฟัง  999.0  999.0  "
      ]
     },
     "execution_count": 34,
     "metadata": {},
     "output_type": "execute_result"
    }
   ],
   "source": [
    "error_df = get_error(courses_df).reset_index(drop=True)\n",
    "error_df"
   ]
  },
  {
   "cell_type": "code",
   "execution_count": 35,
   "metadata": {},
   "outputs": [
    {
     "name": "stdout",
     "output_type": "stream",
     "text": [
      "['33101: ศิลปะ 5                      05    4' '5                      5    4' '004' '999' 'ศิลปะ' 0.5 4.0]\n",
      "Error from get_courseID\n",
      "33101: ศิลปะ 5                       05    4\n",
      "Error from get_courseID\n",
      "33101: ศิลปะ 5                       05    4\n",
      "Error from get_courseID\n",
      "33101: ศิลปะ 5                       05    4\n",
      "Error from get_courseID\n",
      "33101: ศิลปะ 5                       05    4\n",
      "['31202: เทเบิลเทนนิส                                   05       4' '5       4' '134' '999' 'เทเบิลเทนนิส' 0.5 4.0]\n",
      "Error from get_courseID\n",
      "31202: เทเบิลเทนนิส                                   05       4\n",
      "['อ31204: ภาษาอังกฤษฟัง-พูด 2                             ย' '' '135' 'อ31204' 'ภาษาอังกฤษฟัง' 999.0 999.0]\n"
     ]
    }
   ],
   "source": [
    "for error_record in error_df.values:\n",
    "    print(error_record)\n",
    "    section_idx = error_record[2]\n",
    "    section_image = processed_sections[int(section_idx[0])]\n",
    "\n",
    "    pads = [12, 10, 8, 6, 4]\n",
    "    for pad in pads:\n",
    "        focus_image = focus_subject(section_image, int(section_idx[1:]), pad)\n",
    "        focus_text = images_to_texts({section_idx[0]: focus_image})\n",
    "        focus_df = make_course(focus_text)\n",
    "        focus_df = get_non_error(focus_df)\n",
    "        is_help = True if (error_record[3] in focus_df['id'].to_list()) else False\n",
    "        if is_help:\n",
    "            correct_record = focus_df.loc[focus_df['id'] == error_record[3]]\n",
    "            correct_record = correct_record.reset_index(drop=True)\n",
    "            correct_record['section'] =  section_idx\n",
    "            courses_df[courses_df['id'] == correct_record['id'][0]] = correct_record.loc[0].to_list()\n",
    "            break\n",
    "    error_df = get_error(courses_df).reset_index(drop=True)"
   ]
  },
  {
   "cell_type": "code",
   "execution_count": 36,
   "metadata": {},
   "outputs": [
    {
     "data": {
      "text/plain": [
       "['33101: ศิลปะ 5                      05    4',\n",
       " '31202: เทเบิลเทนนิส                                   05       4']"
      ]
     },
     "execution_count": 36,
     "metadata": {},
     "output_type": "execute_result"
    }
   ],
   "source": [
    "error_df['ocr'].to_list()"
   ]
  },
  {
   "cell_type": "code",
   "execution_count": 37,
   "metadata": {},
   "outputs": [],
   "source": [
    "results = get_lines_pos(processed_sections[1])"
   ]
  }
 ],
 "metadata": {
  "kernelspec": {
   "display_name": "transOCR",
   "language": "python",
   "name": "python3"
  },
  "language_info": {
   "codemirror_mode": {
    "name": "ipython",
    "version": 3
   },
   "file_extension": ".py",
   "mimetype": "text/x-python",
   "name": "python",
   "nbconvert_exporter": "python",
   "pygments_lexer": "ipython3",
   "version": "3.10.14"
  }
 },
 "nbformat": 4,
 "nbformat_minor": 2
}
