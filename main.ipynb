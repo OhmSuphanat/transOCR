{
 "cells": [
  {
   "cell_type": "code",
   "execution_count": 1,
   "metadata": {},
   "outputs": [],
   "source": [
    "from src.data import load_data\n",
    "from src.models import util_model\n",
    "from src.data import util\n",
    "from pathlib import Path"
   ]
  },
  {
   "cell_type": "code",
   "execution_count": 2,
   "metadata": {},
   "outputs": [],
   "source": [
    "image_name = \"trans020\" \n",
    "front_image_name = image_name + \"-1\"\n",
    "back_image_name = image_name + \"-2\"\n",
    "front_image_path = \"data/raw/front\"\n",
    "back_image_path = \"data/raw/back\"\n",
    "front_image = load_data.read_image(front_image_path, front_image_name)\n",
    "back_image = load_data.read_image(back_image_path, back_image_name)"
   ]
  },
  {
   "cell_type": "code",
   "execution_count": 3,
   "metadata": {},
   "outputs": [
    {
     "name": "stdout",
     "output_type": "stream",
     "text": [
      "\n",
      "0: 640x480 3 sections, 599.8ms\n",
      "Speed: 1.7ms preprocess, 599.8ms inference, 0.4ms postprocess per image at shape (1, 3, 640, 480)\n"
     ]
    },
    {
     "data": {
      "text/html": [
       "<div>\n",
       "<style scoped>\n",
       "    .dataframe tbody tr th:only-of-type {\n",
       "        vertical-align: middle;\n",
       "    }\n",
       "\n",
       "    .dataframe tbody tr th {\n",
       "        vertical-align: top;\n",
       "    }\n",
       "\n",
       "    .dataframe thead th {\n",
       "        text-align: right;\n",
       "    }\n",
       "</style>\n",
       "<table border=\"1\" class=\"dataframe\">\n",
       "  <thead>\n",
       "    <tr style=\"text-align: right;\">\n",
       "      <th></th>\n",
       "      <th>ocr</th>\n",
       "      <th>numeric</th>\n",
       "      <th>section</th>\n",
       "      <th>id</th>\n",
       "      <th>name</th>\n",
       "      <th>unit</th>\n",
       "      <th>grade</th>\n",
       "    </tr>\n",
       "  </thead>\n",
       "  <tbody>\n",
       "  </tbody>\n",
       "</table>\n",
       "</div>"
      ],
      "text/plain": [
       "Empty DataFrame\n",
       "Columns: [ocr, numeric, section, id, name, unit, grade]\n",
       "Index: []"
      ]
     },
     "execution_count": 3,
     "metadata": {},
     "output_type": "execute_result"
    }
   ],
   "source": [
    "front_section_dict = util_model.detect_section(front_image, util_model.front_model)\n",
    "pf_sections = util.pre_process(front_section_dict)\n",
    "front_text_dict = util_model.images_to_texts(pf_sections)\n",
    "courses_df = util.make_course(front_text_dict)\n",
    "error_df = util.get_error(courses_df)\n",
    "error_df"
   ]
  },
  {
   "cell_type": "code",
   "execution_count": 4,
   "metadata": {},
   "outputs": [
    {
     "data": {
      "text/html": [
       "<div>\n",
       "<style scoped>\n",
       "    .dataframe tbody tr th:only-of-type {\n",
       "        vertical-align: middle;\n",
       "    }\n",
       "\n",
       "    .dataframe tbody tr th {\n",
       "        vertical-align: top;\n",
       "    }\n",
       "\n",
       "    .dataframe thead th {\n",
       "        text-align: right;\n",
       "    }\n",
       "</style>\n",
       "<table border=\"1\" class=\"dataframe\">\n",
       "  <thead>\n",
       "    <tr style=\"text-align: right;\">\n",
       "      <th></th>\n",
       "      <th>ocr</th>\n",
       "      <th>numeric</th>\n",
       "      <th>section</th>\n",
       "      <th>id</th>\n",
       "      <th>name</th>\n",
       "      <th>unit</th>\n",
       "      <th>grade</th>\n",
       "    </tr>\n",
       "  </thead>\n",
       "  <tbody>\n",
       "  </tbody>\n",
       "</table>\n",
       "</div>"
      ],
      "text/plain": [
       "Empty DataFrame\n",
       "Columns: [ocr, numeric, section, id, name, unit, grade]\n",
       "Index: []"
      ]
     },
     "execution_count": 4,
     "metadata": {},
     "output_type": "execute_result"
    }
   ],
   "source": [
    "post_courses_df = util.post_process(courses_df, pf_sections)\n",
    "post_error_df = util.get_error(post_courses_df).reset_index(drop=True)\n",
    "post_error_df"
   ]
  },
  {
   "cell_type": "code",
   "execution_count": 5,
   "metadata": {},
   "outputs": [
    {
     "name": "stdout",
     "output_type": "stream",
     "text": [
      "\n",
      "0: 640x480 1 section, 594.7ms\n",
      "Speed: 2.0ms preprocess, 594.7ms inference, 0.3ms postprocess per image at shape (1, 3, 640, 480)\n"
     ]
    },
    {
     "data": {
      "text/html": [
       "<div>\n",
       "<style scoped>\n",
       "    .dataframe tbody tr th:only-of-type {\n",
       "        vertical-align: middle;\n",
       "    }\n",
       "\n",
       "    .dataframe tbody tr th {\n",
       "        vertical-align: top;\n",
       "    }\n",
       "\n",
       "    .dataframe thead th {\n",
       "        text-align: right;\n",
       "    }\n",
       "</style>\n",
       "<table border=\"1\" class=\"dataframe\">\n",
       "  <thead>\n",
       "    <tr style=\"text-align: right;\">\n",
       "      <th></th>\n",
       "      <th>ocr</th>\n",
       "      <th>category</th>\n",
       "      <th>unit</th>\n",
       "      <th>grade</th>\n",
       "    </tr>\n",
       "  </thead>\n",
       "  <tbody>\n",
       "    <tr>\n",
       "      <th>0</th>\n",
       "      <td>ภาษาไทย          5.0 3.60</td>\n",
       "      <td>ภาษาไทย</td>\n",
       "      <td>5.0</td>\n",
       "      <td>3.60</td>\n",
       "    </tr>\n",
       "    <tr>\n",
       "      <th>1</th>\n",
       "      <td>คณิตศาสตร์         16.5 3.87</td>\n",
       "      <td>คณิตศาสตร์</td>\n",
       "      <td>16.5</td>\n",
       "      <td>3.87</td>\n",
       "    </tr>\n",
       "    <tr>\n",
       "      <th>2</th>\n",
       "      <td>วิทยาศาสตร์และเทคโนโลยี    30.0 3.49</td>\n",
       "      <td>วิทยาศาสตร์</td>\n",
       "      <td>30.0</td>\n",
       "      <td>3.49</td>\n",
       "    </tr>\n",
       "    <tr>\n",
       "      <th>3</th>\n",
       "      <td>สังคมศึกษา ศาสนา และวัฒนธรรม 6.5 3.65</td>\n",
       "      <td>สังคมศึกษา</td>\n",
       "      <td>6.5</td>\n",
       "      <td>3.65</td>\n",
       "    </tr>\n",
       "    <tr>\n",
       "      <th>4</th>\n",
       "      <td>สุขศึกษาและพลศึกษา      2.5 4.00</td>\n",
       "      <td>สุขศึกษา</td>\n",
       "      <td>2.5</td>\n",
       "      <td>4.00</td>\n",
       "    </tr>\n",
       "    <tr>\n",
       "      <th>5</th>\n",
       "      <td>ศิลปะ            3.5 4.00</td>\n",
       "      <td>ศิลปะ</td>\n",
       "      <td>3.5</td>\n",
       "      <td>4.00</td>\n",
       "    </tr>\n",
       "    <tr>\n",
       "      <th>6</th>\n",
       "      <td>การงานอาชีพ         2.0 3.75</td>\n",
       "      <td>การงานอาชีพ</td>\n",
       "      <td>2.0</td>\n",
       "      <td>3.75</td>\n",
       "    </tr>\n",
       "    <tr>\n",
       "      <th>7</th>\n",
       "      <td>.ภาษาต่างประเทศ                           10.0...</td>\n",
       "      <td>ภาษาต่างประเทศ</td>\n",
       "      <td>10.0</td>\n",
       "      <td>3.55</td>\n",
       "    </tr>\n",
       "    <tr>\n",
       "      <th>8</th>\n",
       "      <td>การศึกษาค้นคว้าด้วยตนเอง (!5)        1.5 4.00</td>\n",
       "      <td>ศึกษาค้นคว้าด้วยตนเอง</td>\n",
       "      <td>1.5</td>\n",
       "      <td>4.00</td>\n",
       "    </tr>\n",
       "    <tr>\n",
       "      <th>9</th>\n",
       "      <td>ผลการเรียนเฉลี่ยตลอดหลักสูตร  77.5 3.65</td>\n",
       "      <td>ผลการเรียน</td>\n",
       "      <td>77.5</td>\n",
       "      <td>3.65</td>\n",
       "    </tr>\n",
       "  </tbody>\n",
       "</table>\n",
       "</div>"
      ],
      "text/plain": [
       "                                                 ocr               category  \\\n",
       "0                          ภาษาไทย          5.0 3.60                ภาษาไทย   \n",
       "1                       คณิตศาสตร์         16.5 3.87             คณิตศาสตร์   \n",
       "2               วิทยาศาสตร์และเทคโนโลยี    30.0 3.49            วิทยาศาสตร์   \n",
       "3              สังคมศึกษา ศาสนา และวัฒนธรรม 6.5 3.65             สังคมศึกษา   \n",
       "4                   สุขศึกษาและพลศึกษา      2.5 4.00               สุขศึกษา   \n",
       "5                          ศิลปะ            3.5 4.00                  ศิลปะ   \n",
       "6                       การงานอาชีพ         2.0 3.75            การงานอาชีพ   \n",
       "7  .ภาษาต่างประเทศ                           10.0...         ภาษาต่างประเทศ   \n",
       "8      การศึกษาค้นคว้าด้วยตนเอง (!5)        1.5 4.00  ศึกษาค้นคว้าด้วยตนเอง   \n",
       "9            ผลการเรียนเฉลี่ยตลอดหลักสูตร  77.5 3.65             ผลการเรียน   \n",
       "\n",
       "   unit grade  \n",
       "0   5.0  3.60  \n",
       "1  16.5  3.87  \n",
       "2  30.0  3.49  \n",
       "3   6.5  3.65  \n",
       "4   2.5  4.00  \n",
       "5   3.5  4.00  \n",
       "6   2.0  3.75  \n",
       "7  10.0  3.55  \n",
       "8   1.5  4.00  \n",
       "9  77.5  3.65  "
      ]
     },
     "execution_count": 5,
     "metadata": {},
     "output_type": "execute_result"
    }
   ],
   "source": [
    "back_section_dict = util_model.detect_section(back_image, util_model.back_model)\n",
    "pb_sections = util.pre_process(back_section_dict)\n",
    "back_text_dict = util_model.images_to_texts(pb_sections)\n",
    "gpa = util.get_GPA(back_text_dict[0])\n",
    "gpa"
   ]
  },
  {
   "cell_type": "code",
   "execution_count": 6,
   "metadata": {},
   "outputs": [],
   "source": [
    "front_edf = post_courses_df[[\"id\", \"name\", \"unit\", \"grade\"]]\n",
    "back_edf = gpa[[\"category\", \"unit\", \"grade\"]]"
   ]
  },
  {
   "cell_type": "code",
   "execution_count": 7,
   "metadata": {},
   "outputs": [],
   "source": [
    "load_data.export_df_to_csv(\"data/out/csv\", front_image_name, front_edf)\n",
    "load_data.csv_to_json(\"data/out/json\", \"data/out/csv\", front_image_name)\n",
    "load_data.export_df_to_csv(\"data/out/csv\", back_image_name, back_edf)\n",
    "load_data.csv_to_json(\"data/out/json\", \"data/out/csv\", back_image_name)"
   ]
  },
  {
   "cell_type": "code",
   "execution_count": null,
   "metadata": {},
   "outputs": [],
   "source": []
  },
  {
   "cell_type": "code",
   "execution_count": 8,
   "metadata": {},
   "outputs": [],
   "source": [
    "def add_alphabet_to_image(image, bounding_box, alphabet, font:str):\n",
    "    # Open the original image\n",
    "    draw = ImageDraw.Draw(image)\n",
    "\n",
    "    # Calculate the width for the whitespace (assuming it is 1% of the image width)\n",
    "    white_space_width = int(image.width * 0.01)\n",
    "\n",
    "    # Load a font\n",
    "    font_path = Path('data/font')/font/f\"{font}.ttf\"\n",
    "    \n",
    "    df = pd.DataFrame(bounding_box)\n",
    "    font_size = df.height.median()*3\n",
    "    # Extract the bounding box coordinates\n",
    "    for i in range(len(bounding_box)):\n",
    "        left, top, width, height, textt = bounding_box[i].values()\n",
    "\n",
    "        # Set the font size to fit the bounding box\n",
    "        font = ImageFont.truetype(font_path, font_size)\n",
    "        \n",
    "        # Calculate position for the alphabet\n",
    "        text_x = white_space_width // 2\n",
    "        text_y = top-height*(3/2)\n",
    "\n",
    "\n",
    "        # Draw the alphabet on the image\n",
    "        draw.text((text_x, text_y), alphabet, font=font, fill=\"black\")\n",
    "    return image\n"
   ]
  },
  {
   "cell_type": "code",
   "execution_count": 9,
   "metadata": {},
   "outputs": [],
   "source": [
    "# add_alphabet_to_image(processed_sections[0], bb, 'A', 'THSarabunNew')"
   ]
  }
 ],
 "metadata": {
  "kernelspec": {
   "display_name": "transOCR",
   "language": "python",
   "name": "python3"
  },
  "language_info": {
   "codemirror_mode": {
    "name": "ipython",
    "version": 3
   },
   "file_extension": ".py",
   "mimetype": "text/x-python",
   "name": "python",
   "nbconvert_exporter": "python",
   "pygments_lexer": "ipython3",
   "version": "3.10.14"
  }
 },
 "nbformat": 4,
 "nbformat_minor": 2
}
