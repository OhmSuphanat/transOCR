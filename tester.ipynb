{
 "cells": [
  {
   "cell_type": "code",
   "execution_count": 16,
   "metadata": {},
   "outputs": [],
   "source": [
    "import pandas as pd\n",
    "from pathlib import Path\n",
    "import os\n",
    "from src.data import tester, load_data"
   ]
  },
  {
   "cell_type": "code",
   "execution_count": 17,
   "metadata": {},
   "outputs": [],
   "source": [
    "def GPA(df):\n",
    "    mul = df['unit_x'].astype(float) * df['grade_x'].astype(float)\n",
    "    sumnation = mul.sum()\n",
    "    units = df['unit_x'].astype(float).sum()\n",
    "    return units, sumnation/units"
   ]
  },
  {
   "cell_type": "code",
   "execution_count": 18,
   "metadata": {},
   "outputs": [],
   "source": [
    "front_test_dir = Path(\"data/test/csv/front\")\n",
    "front_out_dir = Path(\"data/out/csv/front\")\n",
    "front_test_filenames = os.listdir(front_test_dir)\n",
    "front_out_filenames = os.listdir(front_out_dir)\n",
    "front_test_filenames.sort()\n",
    "front_out_filenames.sort()"
   ]
  },
  {
   "cell_type": "code",
   "execution_count": 19,
   "metadata": {},
   "outputs": [
    {
     "name": "stdout",
     "output_type": "stream",
     "text": [
      "model accuracy: 90.51956574371853\n"
     ]
    }
   ],
   "source": [
    "totol_acc, n = 0, len(front_test_filenames)\n",
    "\n",
    "for idx, _ in enumerate(front_test_filenames):\n",
    "    test_df = load_data.read_csv(front_test_dir, front_test_filenames[idx])\n",
    "    out_df = load_data.read_csv(front_out_dir, front_out_filenames[idx])\n",
    "    merge_df = pd.merge(test_df, out_df, left_on=\"id\", right_on=\"id\", how=\"inner\")\n",
    "    correct_df = merge_df.query(\"(unit_x == unit_y) & (grade_x == grade_y)\")\n",
    "    acc = tester.get_accuracy(correct_df.shape[0], test_df.shape[0])\n",
    "    totol_acc += acc\n",
    "\n",
    "model_acc = totol_acc/n\n",
    "print(\"model accuracy:\", model_acc)"
   ]
  },
  {
   "cell_type": "code",
   "execution_count": 47,
   "metadata": {},
   "outputs": [
    {
     "name": "stdout",
     "output_type": "stream",
     "text": [
      "accuracy: 96.66666666666667\n"
     ]
    },
    {
     "data": {
      "text/html": [
       "<div>\n",
       "<style scoped>\n",
       "    .dataframe tbody tr th:only-of-type {\n",
       "        vertical-align: middle;\n",
       "    }\n",
       "\n",
       "    .dataframe tbody tr th {\n",
       "        vertical-align: top;\n",
       "    }\n",
       "\n",
       "    .dataframe thead th {\n",
       "        text-align: right;\n",
       "    }\n",
       "</style>\n",
       "<table border=\"1\" class=\"dataframe\">\n",
       "  <thead>\n",
       "    <tr style=\"text-align: right;\">\n",
       "      <th></th>\n",
       "      <th>id</th>\n",
       "      <th>name_x</th>\n",
       "      <th>unit_x</th>\n",
       "      <th>grade_x</th>\n",
       "      <th>section</th>\n",
       "      <th>name_y</th>\n",
       "      <th>unit_y</th>\n",
       "      <th>grade_y</th>\n",
       "    </tr>\n",
       "  </thead>\n",
       "  <tbody>\n",
       "    <tr>\n",
       "      <th>0</th>\n",
       "      <td>ท31101</td>\n",
       "      <td>ภาษาไทยพื้นฐาน 1</td>\n",
       "      <td>1.0</td>\n",
       "      <td>4.0</td>\n",
       "      <td>100</td>\n",
       "      <td>ภาษาไทยพื้นฐาน</td>\n",
       "      <td>1.0</td>\n",
       "      <td>4.0</td>\n",
       "    </tr>\n",
       "    <tr>\n",
       "      <th>1</th>\n",
       "      <td>ค31101</td>\n",
       "      <td>คณิตศาสตร์พื้นฐาน 1</td>\n",
       "      <td>1.5</td>\n",
       "      <td>4.0</td>\n",
       "      <td>101</td>\n",
       "      <td>คณิตศาสตร์พื่นฐาน</td>\n",
       "      <td>1.5</td>\n",
       "      <td>4.0</td>\n",
       "    </tr>\n",
       "    <tr>\n",
       "      <th>2</th>\n",
       "      <td>ว30111</td>\n",
       "      <td>วิทยาศาสตร์ชีวภาพ</td>\n",
       "      <td>1.5</td>\n",
       "      <td>4.0</td>\n",
       "      <td>102</td>\n",
       "      <td>วิทยาศาสตร์ชีวภาพ</td>\n",
       "      <td>1.5</td>\n",
       "      <td>4.0</td>\n",
       "    </tr>\n",
       "    <tr>\n",
       "      <th>3</th>\n",
       "      <td>ว30112</td>\n",
       "      <td>วิทยาศาสตร์กายภาพ 1</td>\n",
       "      <td>1.5</td>\n",
       "      <td>4.0</td>\n",
       "      <td>103</td>\n",
       "      <td>วิทยาศาสตร์กายภาพ</td>\n",
       "      <td>1.5</td>\n",
       "      <td>4.0</td>\n",
       "    </tr>\n",
       "    <tr>\n",
       "      <th>4</th>\n",
       "      <td>ว30113</td>\n",
       "      <td>วิทยาศาสตร์โลกและอวกาศ</td>\n",
       "      <td>1.5</td>\n",
       "      <td>4.0</td>\n",
       "      <td>104</td>\n",
       "      <td>วิทยาศาสตร์โลกและอวกาศ</td>\n",
       "      <td>1.5</td>\n",
       "      <td>4.0</td>\n",
       "    </tr>\n",
       "    <tr>\n",
       "      <th>...</th>\n",
       "      <td>...</td>\n",
       "      <td>...</td>\n",
       "      <td>...</td>\n",
       "      <td>...</td>\n",
       "      <td>...</td>\n",
       "      <td>...</td>\n",
       "      <td>...</td>\n",
       "      <td>...</td>\n",
       "    </tr>\n",
       "    <tr>\n",
       "      <th>84</th>\n",
       "      <td>ว33216</td>\n",
       "      <td>ดาราศาสตร์เพิ่มเติม 2</td>\n",
       "      <td>1.0</td>\n",
       "      <td>4.0</td>\n",
       "      <td>022</td>\n",
       "      <td>ดาราศาสตร์เพิ่มเติม</td>\n",
       "      <td>1.0</td>\n",
       "      <td>4.0</td>\n",
       "    </tr>\n",
       "    <tr>\n",
       "      <th>85</th>\n",
       "      <td>ว33222</td>\n",
       "      <td>ฟิสิกส์ 5</td>\n",
       "      <td>2.0</td>\n",
       "      <td>4.0</td>\n",
       "      <td>023</td>\n",
       "      <td>ฟิสิกส์</td>\n",
       "      <td>2.0</td>\n",
       "      <td>4.0</td>\n",
       "    </tr>\n",
       "    <tr>\n",
       "      <th>87</th>\n",
       "      <td>ว33242</td>\n",
       "      <td>ชีววิทยา 5</td>\n",
       "      <td>1.5</td>\n",
       "      <td>4.0</td>\n",
       "      <td>025</td>\n",
       "      <td>ชีววิทยา</td>\n",
       "      <td>1.5</td>\n",
       "      <td>4.0</td>\n",
       "    </tr>\n",
       "    <tr>\n",
       "      <th>88</th>\n",
       "      <td>ง33216</td>\n",
       "      <td>ทักษะเพื่อการทำงาน</td>\n",
       "      <td>0.5</td>\n",
       "      <td>4.0</td>\n",
       "      <td>026</td>\n",
       "      <td>ทักษะเพื่อการทํางาน</td>\n",
       "      <td>0.5</td>\n",
       "      <td>4.0</td>\n",
       "    </tr>\n",
       "    <tr>\n",
       "      <th>89</th>\n",
       "      <td>อ33202</td>\n",
       "      <td>สนทนาภาษาอังกฤษ 6</td>\n",
       "      <td>0.5</td>\n",
       "      <td>4.0</td>\n",
       "      <td>027</td>\n",
       "      <td>สนทนาภาษาอังกฤษ</td>\n",
       "      <td>0.5</td>\n",
       "      <td>4.0</td>\n",
       "    </tr>\n",
       "  </tbody>\n",
       "</table>\n",
       "<p>87 rows × 8 columns</p>\n",
       "</div>"
      ],
      "text/plain": [
       "        id                  name_x unit_x grade_x section  \\\n",
       "0   ท31101        ภาษาไทยพื้นฐาน 1    1.0     4.0     100   \n",
       "1   ค31101     คณิตศาสตร์พื้นฐาน 1    1.5     4.0     101   \n",
       "2   ว30111       วิทยาศาสตร์ชีวภาพ    1.5     4.0     102   \n",
       "3   ว30112     วิทยาศาสตร์กายภาพ 1    1.5     4.0     103   \n",
       "4   ว30113  วิทยาศาสตร์โลกและอวกาศ    1.5     4.0     104   \n",
       "..     ...                     ...    ...     ...     ...   \n",
       "84  ว33216   ดาราศาสตร์เพิ่มเติม 2    1.0     4.0     022   \n",
       "85  ว33222               ฟิสิกส์ 5    2.0     4.0     023   \n",
       "87  ว33242              ชีววิทยา 5    1.5     4.0     025   \n",
       "88  ง33216      ทักษะเพื่อการทำงาน    0.5     4.0     026   \n",
       "89  อ33202       สนทนาภาษาอังกฤษ 6    0.5     4.0     027   \n",
       "\n",
       "                    name_y unit_y grade_y  \n",
       "0           ภาษาไทยพื้นฐาน    1.0     4.0  \n",
       "1        คณิตศาสตร์พื่นฐาน    1.5     4.0  \n",
       "2        วิทยาศาสตร์ชีวภาพ    1.5     4.0  \n",
       "3        วิทยาศาสตร์กายภาพ    1.5     4.0  \n",
       "4   วิทยาศาสตร์โลกและอวกาศ    1.5     4.0  \n",
       "..                     ...    ...     ...  \n",
       "84     ดาราศาสตร์เพิ่มเติม    1.0     4.0  \n",
       "85                 ฟิสิกส์    2.0     4.0  \n",
       "87                ชีววิทยา    1.5     4.0  \n",
       "88     ทักษะเพื่อการทํางาน    0.5     4.0  \n",
       "89         สนทนาภาษาอังกฤษ    0.5     4.0  \n",
       "\n",
       "[87 rows x 8 columns]"
      ]
     },
     "execution_count": 47,
     "metadata": {},
     "output_type": "execute_result"
    }
   ],
   "source": [
    "test_df = load_data.read_csv(front_test_dir, \"test005-1.csv\")\n",
    "out_df = load_data.read_csv(front_out_dir, \"trans005-1.csv\")\n",
    "merge_df = pd.merge(test_df, out_df, left_on=\"id\", right_on=\"id\", how=\"inner\")\n",
    "correct_df = merge_df.query(\"(unit_x == unit_y) & (grade_x == grade_y)\")\n",
    "acc = tester.get_accuracy(correct_df.shape[0], test_df.shape[0])\n",
    "print(\"accuracy:\", acc)\n",
    "correct_df\n"
   ]
  },
  {
   "cell_type": "code",
   "execution_count": 48,
   "metadata": {},
   "outputs": [
    {
     "data": {
      "text/plain": [
       "(90.0, 4.0)"
      ]
     },
     "execution_count": 48,
     "metadata": {},
     "output_type": "execute_result"
    }
   ],
   "source": [
    "GPA(correct_df)"
   ]
  }
 ],
 "metadata": {
  "kernelspec": {
   "display_name": "python_env",
   "language": "python",
   "name": "python3"
  },
  "language_info": {
   "codemirror_mode": {
    "name": "ipython",
    "version": 3
   },
   "file_extension": ".py",
   "mimetype": "text/x-python",
   "name": "python",
   "nbconvert_exporter": "python",
   "pygments_lexer": "ipython3",
   "version": "3.10.14"
  }
 },
 "nbformat": 4,
 "nbformat_minor": 2
}
