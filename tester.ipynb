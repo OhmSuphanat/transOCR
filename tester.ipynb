{
 "cells": [
  {
   "cell_type": "code",
   "execution_count": 1,
   "metadata": {},
   "outputs": [],
   "source": [
    "import pandas as pd\n",
    "from pathlib import Path\n",
    "import os\n",
    "from src.data import tester, load_data"
   ]
  },
  {
   "cell_type": "code",
   "execution_count": 2,
   "metadata": {},
   "outputs": [],
   "source": [
    "front_test_dir = Path(\"data/test/csv/front\")\n",
    "front_out_dir = Path(\"data/out/csv/front\")\n",
    "front_test_filenames = os.listdir(front_test_dir)\n",
    "front_out_filenames = os.listdir(front_out_dir)\n",
    "front_test_filenames.sort()\n",
    "front_out_filenames.sort()"
   ]
  },
  {
   "cell_type": "code",
   "execution_count": 3,
   "metadata": {},
   "outputs": [
    {
     "name": "stdout",
     "output_type": "stream",
     "text": [
      "model accuracy: 90.51956574371853\n"
     ]
    }
   ],
   "source": [
    "totol_acc, n = 0, len(front_test_filenames)\n",
    "\n",
    "for idx, _ in enumerate(front_test_filenames):\n",
    "    test_df = load_data.read_csv(front_test_dir, front_test_filenames[idx])\n",
    "    out_df = load_data.read_csv(front_out_dir, front_out_filenames[idx])\n",
    "    merge_df = pd.merge(test_df, out_df, left_on=\"id\", right_on=\"id\", how=\"inner\")\n",
    "    correct_df = merge_df.query(\"(unit_x == unit_y) & (grade_x == grade_y)\")\n",
    "    acc = tester.get_accuracy(correct_df.shape[0], test_df.shape[0])\n",
    "    totol_acc += acc\n",
    "\n",
    "model_acc = totol_acc/n\n",
    "print(\"model accuracy:\", model_acc)"
   ]
  }
 ],
 "metadata": {
  "kernelspec": {
   "display_name": "python_env",
   "language": "python",
   "name": "python3"
  },
  "language_info": {
   "codemirror_mode": {
    "name": "ipython",
    "version": 3
   },
   "file_extension": ".py",
   "mimetype": "text/x-python",
   "name": "python",
   "nbconvert_exporter": "python",
   "pygments_lexer": "ipython3",
   "version": "3.10.14"
  }
 },
 "nbformat": 4,
 "nbformat_minor": 2
}
